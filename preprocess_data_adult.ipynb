{
 "cells": [
  {
   "cell_type": "code",
   "execution_count": 31,
   "id": "20bc3f05",
   "metadata": {},
   "outputs": [
    {
     "name": "stdout",
     "output_type": "stream",
     "text": [
      "   age  workclass  fnlwgt     education  educational-num      marital-status  \\\n",
      "0   25    Private  226802          11th                7       Never-married   \n",
      "1   38    Private   89814       HS-grad                9  Married-civ-spouse   \n",
      "2   28  Local-gov  336951    Assoc-acdm               12  Married-civ-spouse   \n",
      "3   44    Private  160323  Some-college               10  Married-civ-spouse   \n",
      "4   18          ?  103497  Some-college               10       Never-married   \n",
      "\n",
      "          occupation relationship   race  gender  capital-gain  capital-loss  \\\n",
      "0  Machine-op-inspct    Own-child  Black    Male             0             0   \n",
      "1    Farming-fishing      Husband  White    Male             0             0   \n",
      "2    Protective-serv      Husband  White    Male             0             0   \n",
      "3  Machine-op-inspct      Husband  Black    Male          7688             0   \n",
      "4                  ?    Own-child  White  Female             0             0   \n",
      "\n",
      "   hours-per-week native-country income  \n",
      "0              40  United-States  <=50K  \n",
      "1              50  United-States  <=50K  \n",
      "2              40  United-States   >50K  \n",
      "3              40  United-States   >50K  \n",
      "4              30  United-States  <=50K  \n"
     ]
    }
   ],
   "source": [
    "import pandas as pd\n",
    "import numpy as np\n",
    "import matplotlib.pyplot as plt\n",
    "from sklearn.preprocessing import StandardScaler, MinMaxScaler\n",
    "\n",
    "df = pd.read_csv(\"data/raw/adult.csv\")\n",
    "print(df.head())"
   ]
  },
  {
   "cell_type": "code",
   "execution_count": 32,
   "id": "f62ecc8e",
   "metadata": {},
   "outputs": [
    {
     "name": "stdout",
     "output_type": "stream",
     "text": [
      "age                0\n",
      "workclass          0\n",
      "fnlwgt             0\n",
      "education          0\n",
      "educational-num    0\n",
      "marital-status     0\n",
      "occupation         0\n",
      "relationship       0\n",
      "race               0\n",
      "gender             0\n",
      "capital-gain       0\n",
      "capital-loss       0\n",
      "hours-per-week     0\n",
      "native-country     0\n",
      "income             0\n",
      "dtype: int64\n"
     ]
    }
   ],
   "source": [
    "print(df.isnull().sum())"
   ]
  },
  {
   "cell_type": "code",
   "execution_count": 33,
   "id": "dbbb0206",
   "metadata": {},
   "outputs": [
    {
     "name": "stdout",
     "output_type": "stream",
     "text": [
      "age                0.0\n",
      "workclass          0.0\n",
      "fnlwgt             0.0\n",
      "education          0.0\n",
      "educational-num    0.0\n",
      "marital-status     0.0\n",
      "occupation         0.0\n",
      "relationship       0.0\n",
      "race               0.0\n",
      "gender             0.0\n",
      "capital-gain       0.0\n",
      "capital-loss       0.0\n",
      "hours-per-week     0.0\n",
      "native-country     0.0\n",
      "income             0.0\n",
      "dtype: float64\n"
     ]
    }
   ],
   "source": [
    "print(df.isnull().mean() * 100)"
   ]
  },
  {
   "cell_type": "code",
   "execution_count": 34,
   "id": "3fec763f",
   "metadata": {},
   "outputs": [
    {
     "name": "stdout",
     "output_type": "stream",
     "text": [
      "Empty DataFrame\n",
      "Columns: [age, workclass, fnlwgt, education, educational-num, marital-status, occupation, relationship, race, gender, capital-gain, capital-loss, hours-per-week, native-country, income]\n",
      "Index: []\n"
     ]
    }
   ],
   "source": [
    "print(df[df.isnull().any(axis=1)].head())"
   ]
  },
  {
   "cell_type": "code",
   "execution_count": 35,
   "id": "08e37b05",
   "metadata": {},
   "outputs": [],
   "source": [
    "df_sem_nulos = df.dropna()\n",
    "\n",
    "df_menos_colunas = df.dropna(axis=1, thresh=0.5*len(df))"
   ]
  },
  {
   "cell_type": "code",
   "execution_count": 36,
   "id": "6ae6b09e",
   "metadata": {},
   "outputs": [],
   "source": [
    "df_preenchido = df.fillna(df.median(numeric_only=True))"
   ]
  },
  {
   "cell_type": "code",
   "execution_count": 37,
   "id": "8e8b2897",
   "metadata": {},
   "outputs": [],
   "source": [
    "for col in df.select_dtypes(include=[\"object\"]).columns:\n",
    "    df_preenchido[col] = df_preenchido[col].fillna(df[col].mode()[0])\n"
   ]
  },
  {
   "cell_type": "code",
   "execution_count": 38,
   "id": "826676a8",
   "metadata": {},
   "outputs": [],
   "source": [
    "df_preenchido.to_csv(\"data/processed/adult_clean.csv\", index=False)"
   ]
  },
  {
   "cell_type": "code",
   "execution_count": 39,
   "id": "7745307d",
   "metadata": {},
   "outputs": [
    {
     "name": "stdout",
     "output_type": "stream",
     "text": [
      "\n",
      "Quantidade de outliers detectados por coluna:\n",
      "age: 216\n",
      "fnlwgt: 1453\n",
      "educational-num: 1794\n",
      "capital-gain: 4035\n",
      "capital-loss: 2282\n",
      "hours-per-week: 13496\n"
     ]
    },
    {
     "name": "stderr",
     "output_type": "stream",
     "text": [
      "C:\\Users\\Erlanny Rodrigues\\AppData\\Local\\Temp\\ipykernel_14916\\1842969414.py:25: FutureWarning: Setting an item of incompatible dtype is deprecated and will raise an error in a future version of pandas. Value '178144.5' has dtype incompatible with int64, please explicitly cast to a compatible dtype first.\n",
      "  df_tratado.loc[(df_tratado[col] < limite_inferior) | (df_tratado[col] > limite_superior), col] = mediana\n"
     ]
    }
   ],
   "source": [
    "def detectar_outliers(col):\n",
    "    Q1 = col.quantile(0.25)\n",
    "    Q3 = col.quantile(0.75)\n",
    "    IQR = Q3 - Q1\n",
    "    limite_inferior = Q1 - 1.5 * IQR\n",
    "    limite_superior = Q3 + 1.5 * IQR\n",
    "    return col[(col < limite_inferior) | (col > limite_superior)]\n",
    "\n",
    "outliers = {}\n",
    "for col in df_preenchido.select_dtypes(include=[np.number]).columns:\n",
    "    outliers[col] = detectar_outliers(df_preenchido[col])\n",
    "\n",
    "print(\"\\nQuantidade de outliers detectados por coluna:\")\n",
    "for col, vals in outliers.items():\n",
    "    print(f\"{col}: {len(vals)}\")\n",
    "\n",
    "df_tratado = df_preenchido.copy()\n",
    "for col in df_tratado.select_dtypes(include=[np.number]).columns:\n",
    "    Q1 = df_tratado[col].quantile(0.25)\n",
    "    Q3 = df_tratado[col].quantile(0.75)\n",
    "    IQR = Q3 - Q1\n",
    "    limite_inferior = Q1 - 1.5 * IQR\n",
    "    limite_superior = Q3 + 1.5 * IQR\n",
    "    mediana = df_tratado[col].median()\n",
    "    df_tratado.loc[(df_tratado[col] < limite_inferior) | (df_tratado[col] > limite_superior), col] = mediana\n",
    "\n",
    "df_tratado.to_csv(\"data/processed/adult_final.csv\", index=False)"
   ]
  },
  {
   "cell_type": "code",
   "execution_count": 40,
   "id": "a9bcff73",
   "metadata": {},
   "outputs": [
    {
     "name": "stdout",
     "output_type": "stream",
     "text": [
      "Tipos de dados antes da conversão:\n",
      " age                  int64\n",
      "workclass           object\n",
      "fnlwgt             float64\n",
      "education           object\n",
      "educational-num      int64\n",
      "marital-status      object\n",
      "occupation          object\n",
      "relationship        object\n",
      "race                object\n",
      "gender              object\n",
      "capital-gain         int64\n",
      "capital-loss         int64\n",
      "hours-per-week       int64\n",
      "native-country      object\n",
      "income              object\n",
      "dtype: object\n"
     ]
    }
   ],
   "source": [
    "df = pd.read_csv(\"data/processed/adult_final.csv\")\n",
    "\n",
    "print(\"Tipos de dados antes da conversão:\\n\", df.dtypes)\n",
    "\n"
   ]
  },
  {
   "cell_type": "code",
   "execution_count": 41,
   "id": "6f9b440f",
   "metadata": {},
   "outputs": [
    {
     "name": "stdout",
     "output_type": "stream",
     "text": [
      "Tipos de dados antes da conversão:\n",
      " age                  int64\n",
      "workclass           object\n",
      "fnlwgt             float64\n",
      "education           object\n",
      "educational-num      int64\n",
      "marital-status      object\n",
      "occupation          object\n",
      "relationship        object\n",
      "race                object\n",
      "gender              object\n",
      "capital-gain         int64\n",
      "capital-loss         int64\n",
      "hours-per-week       int64\n",
      "native-country      object\n",
      "income              object\n",
      "dtype: object\n",
      "Colunas categóricas detectadas: ['workclass', 'education', 'marital-status', 'occupation', 'relationship', 'race', 'gender', 'native-country', 'income']\n",
      "\n",
      "Dimensões após encoding: (48842, 101)\n",
      "Tipos de dados depois da conversão:\n",
      " age                                 int64\n",
      "fnlwgt                            float64\n",
      "educational-num                     int64\n",
      "capital-gain                        int64\n",
      "capital-loss                        int64\n",
      "                                   ...   \n",
      "native-country_Trinadad&Tobago       bool\n",
      "native-country_United-States         bool\n",
      "native-country_Vietnam               bool\n",
      "native-country_Yugoslavia            bool\n",
      "income_>50K                          bool\n",
      "Length: 101, dtype: object\n",
      "\n",
      "Dataset convertido salvo em data/processed/adult_ml_ready.csv\n"
     ]
    }
   ],
   "source": [
    "df = pd.read_csv(\"data/processed/adult_final.csv\")\n",
    "\n",
    "print(\"Tipos de dados antes da conversão:\\n\", df.dtypes)\n",
    "\n",
    "\n",
    "if \"education\" in df.columns and \"education-num\" in df.columns:\n",
    "    df = df.drop(columns=[\"education\"])\n",
    "\n",
    "\n",
    "cols_categoricas = df.select_dtypes(include=[\"object\"]).columns.tolist()\n",
    "print(\"Colunas categóricas detectadas:\", cols_categoricas)\n",
    "\n",
    "# Aplicar One-Hot Encoding\n",
    "df_numerico = pd.get_dummies(df, columns=cols_categoricas, drop_first=True)\n",
    "\n",
    "print(\"\\nDimensões após encoding:\", df_numerico.shape)\n",
    "print(\"Tipos de dados depois da conversão:\\n\", df_numerico.dtypes)\n",
    "\n",
    "df_numerico.to_csv(\"data/processed/adult_ml_ready.csv\", index=False)\n",
    "print(\"\\nDataset convertido salvo em data/processed/adult_ml_ready.csv\")"
   ]
  },
  {
   "cell_type": "code",
   "execution_count": 42,
   "id": "4d393f84",
   "metadata": {},
   "outputs": [
    {
     "name": "stdout",
     "output_type": "stream",
     "text": [
      "Antes da normalização:\n",
      "                   count           mean           std      min       25%  \\\n",
      "age              48842.0      38.437247     13.375595     17.0      28.0   \n",
      "fnlwgt           48842.0  179641.816214  86321.206519  12285.0  117550.5   \n",
      "educational-num  48842.0      10.324106      2.198878      5.0       9.0   \n",
      "capital-gain     48842.0       0.000000      0.000000      0.0       0.0   \n",
      "capital-loss     48842.0       0.000000      0.000000      0.0       0.0   \n",
      "\n",
      "                       50%       75%       max  \n",
      "age                  37.00      47.0      78.0  \n",
      "fnlwgt           178143.25  226891.0  417668.0  \n",
      "educational-num      10.00      12.0      16.0  \n",
      "capital-gain          0.00       0.0       0.0  \n",
      "capital-loss          0.00       0.0       0.0  \n",
      "\n",
      "Datasets salvos:\n",
      "StandardScaler: data/processed/adult_ml_standard.csv\n",
      "MinMaxScaler:   data/processed/adult_ml_minmax.csv\n"
     ]
    }
   ],
   "source": [
    "df = pd.read_csv(\"data/processed/adult_ml_ready.csv\")\n",
    "\n",
    "print(\"Antes da normalização:\")\n",
    "print(df.describe().T.head())\n",
    "\n",
    "\n",
    "y = df[\"income_>50K\"] if \"income_>50K\" in df.columns else None\n",
    "X = df.drop(columns=[\"income_>50K\"]) if \"income_>50K\" in df.columns else df\n",
    "\n",
    "\n",
    "scaler_std = StandardScaler()\n",
    "X_std = pd.DataFrame(scaler_std.fit_transform(X), columns=X.columns)\n",
    "\n",
    "\n",
    "scaler_mm = MinMaxScaler()\n",
    "X_mm = pd.DataFrame(scaler_mm.fit_transform(X), columns=X.columns)\n",
    "\n",
    "\n",
    "if y is not None:\n",
    "    df_std = pd.concat([X_std, y], axis=1)\n",
    "    df_mm = pd.concat([X_mm, y], axis=1)\n",
    "else:\n",
    "    df_std, df_mm = X_std, X_mm\n",
    "\n",
    "\n",
    "df_std.to_csv(\"data/processed/adult_ml_standard.csv\", index=False)\n",
    "df_mm.to_csv(\"data/processed/adult_ml_minmax.csv\", index=False)\n",
    "\n",
    "print(\"\\nDatasets salvos:\")\n",
    "print(\"StandardScaler: data/processed/adult_ml_standard.csv\")\n",
    "print(\"MinMaxScaler:   data/processed/adult_ml_minmax.csv\")"
   ]
  }
 ],
 "metadata": {
  "kernelspec": {
   "display_name": "Python 3",
   "language": "python",
   "name": "python3"
  },
  "language_info": {
   "codemirror_mode": {
    "name": "ipython",
    "version": 3
   },
   "file_extension": ".py",
   "mimetype": "text/x-python",
   "name": "python",
   "nbconvert_exporter": "python",
   "pygments_lexer": "ipython3",
   "version": "3.12.3"
  }
 },
 "nbformat": 4,
 "nbformat_minor": 5
}
